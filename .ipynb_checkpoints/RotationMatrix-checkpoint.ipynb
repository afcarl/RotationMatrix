{
 "metadata": {
  "name": "",
  "signature": "sha256:44541a780d4bc61171dc2d050ce1db426a20512dabdca18f88a69b15edcfaada"
 },
 "nbformat": 3,
 "nbformat_minor": 0,
 "worksheets": [
  {
   "cells": [
    {
     "cell_type": "code",
     "collapsed": false,
     "input": [
      "import numpy as np\n",
      "import matplotlib.pyplot as plt\n",
      "from mpl_toolkits.mplot3d import Axes3D"
     ],
     "language": "python",
     "metadata": {},
     "outputs": [],
     "prompt_number": 300
    },
    {
     "cell_type": "code",
     "collapsed": false,
     "input": [
      "%pylab inline --no-import-all"
     ],
     "language": "python",
     "metadata": {},
     "outputs": [
      {
       "output_type": "stream",
       "stream": "stdout",
       "text": [
        "Populating the interactive namespace from numpy and matplotlib\n"
       ]
      }
     ],
     "prompt_number": 301
    },
    {
     "cell_type": "heading",
     "level": 1,
     "metadata": {},
     "source": [
      "Drehung nach Z, Y', X'' Konvention"
     ]
    },
    {
     "cell_type": "markdown",
     "metadata": {},
     "source": [
      "In der Fahrzeugtechnik (Luftfahrt: DIN 9300; Automobilbau : DIN 70000; Schifffahrt) ist die (z,y',x'')-Konvention gebr\u00e4uchlich. In den Normen sind die Verwendung der Formelzeichen $\\Psi$, $\\Theta$ und $\\Phi$ und die Namen Gier-, Nick- und Roll-Winkel (engl. yaw, pitch and roll angle) f\u00fcr die drei Eulerwinkel vorgeschrieben.\n",
      "\n",
      "Durch die drei Drehungen wird das erdfeste System (engl. world frame) xyz in das k\u00f6rperfeste Koordinatensystem (engl. body frame) XYZ oder umgekehrt gedreht.\n",
      "\n",
      "![](http://upload.wikimedia.org/wikipedia/commons/thumb/6/67/Plane.svg/440px-Plane.svg.png)"
     ]
    },
    {
     "cell_type": "heading",
     "level": 2,
     "metadata": {},
     "source": [
      "Rotationsmatrix berechnen"
     ]
    },
    {
     "cell_type": "code",
     "collapsed": false,
     "input": [
      "def Rypr(y, p, r):\n",
      "    '''\n",
      "    Rotationsmatrix f\u00fcr y=yaw, p=pitch, r=roll in degrees\n",
      "    '''\n",
      "   \n",
      "    y = y*np.pi/180.0\n",
      "    p = p*np.pi/180.0\n",
      "    r = r*np.pi/180.0        \n",
      "    \n",
      "    Rr = np.matrix([[1.0, 0.0, 0.0],[0.0, np.cos(r), np.sin(r)],[0.0, -np.sin(r), np.cos(r)]])\n",
      "    Rp = np.matrix([[np.cos(p), 0.0, -np.sin(p)],[0.0, 1.0, 0.0],[np.sin(p), 0.0, np.cos(p)]])\n",
      "    Ry = np.matrix([[np.cos(y), np.sin(y), 0.0],[-np.sin(y), np.cos(y), 0.0],[0.0, 0.0, 1.0]])\n",
      "    \n",
      "    return Rr*Rp*Ry"
     ],
     "language": "python",
     "metadata": {},
     "outputs": [],
     "prompt_number": 303
    },
    {
     "cell_type": "markdown",
     "metadata": {},
     "source": [
      "$\\begin{align}\n",
      "R & =   \n",
      " \\begin{pmatrix}\n",
      "    1 & 0          & 0          \\\\\n",
      "    0 & \\cos \\Phi   & \\sin \\Phi \\\\\n",
      "    0 & - \\sin \\Phi & \\cos \\Phi\n",
      "  \\end{pmatrix}\n",
      "  \\begin{pmatrix}\n",
      "    \\cos \\Theta & 0 & - \\sin \\Theta \\\\\n",
      "    0           & 1 & 0             \\\\\n",
      "    \\sin \\Theta & 0 & \\cos \\Theta\n",
      "  \\end{pmatrix}\n",
      "   \\begin{pmatrix}\n",
      "    \\cos \\Psi   & \\sin \\Psi & 0 \\\\\n",
      "    - \\sin \\Psi & \\cos \\Psi & 0 \\\\\n",
      "    0           & 0         & 1\n",
      "  \\end{pmatrix} \n",
      "\\end{align}$"
     ]
    },
    {
     "cell_type": "code",
     "collapsed": false,
     "input": [
      "gieren = 15.0\n",
      "nicken = 45.0\n",
      "wanken = 10.0\n",
      "\n",
      "R = Rypr(gieren, nicken, wanken)\n",
      "R"
     ],
     "language": "python",
     "metadata": {},
     "outputs": [
      {
       "metadata": {},
       "output_type": "pyout",
       "prompt_number": 311,
       "text": [
        "matrix([[ 0.6830127 ,  0.1830127 , -0.70710678],\n",
        "        [-0.13628309,  0.98303106,  0.1227878 ],\n",
        "        [ 0.71757966,  0.01250107,  0.69636424]])"
       ]
      }
     ],
     "prompt_number": 311
    },
    {
     "cell_type": "heading",
     "level": 2,
     "metadata": {},
     "source": [
      "Rotation eines Vektors"
     ]
    },
    {
     "cell_type": "markdown",
     "metadata": {},
     "source": [
      "$ g =   \n",
      "  \\begin{pmatrix}\n",
      "    0 \\\\\n",
      "    0 \\\\\n",
      "    mg\n",
      "  \\end{pmatrix}$"
     ]
    },
    {
     "cell_type": "code",
     "collapsed": false,
     "input": [
      "g = np.matrix([[0.0], [0.0], [-1.0]])"
     ],
     "language": "python",
     "metadata": {},
     "outputs": [],
     "prompt_number": 312
    },
    {
     "cell_type": "markdown",
     "metadata": {},
     "source": [
      "$v_B = R \\cdot g$"
     ]
    },
    {
     "cell_type": "code",
     "collapsed": false,
     "input": [
      "vB = R*g\n",
      "vB"
     ],
     "language": "python",
     "metadata": {},
     "outputs": [
      {
       "metadata": {},
       "output_type": "pyout",
       "prompt_number": 313,
       "text": [
        "matrix([[ 0.70710678],\n",
        "        [-0.1227878 ],\n",
        "        [-0.69636424]])"
       ]
      }
     ],
     "prompt_number": 313
    },
    {
     "cell_type": "heading",
     "level": 2,
     "metadata": {},
     "source": [
      "R\u00fccktransformation"
     ]
    },
    {
     "cell_type": "markdown",
     "metadata": {},
     "source": [
      "$g = R^T \\cdot v_B$"
     ]
    },
    {
     "cell_type": "code",
     "collapsed": false,
     "input": [
      "RT = np.transpose(R)\n",
      "RT"
     ],
     "language": "python",
     "metadata": {},
     "outputs": [
      {
       "metadata": {},
       "output_type": "pyout",
       "prompt_number": 314,
       "text": [
        "matrix([[ 0.6830127 , -0.13628309,  0.71757966],\n",
        "        [ 0.1830127 ,  0.98303106,  0.01250107],\n",
        "        [-0.70710678,  0.1227878 ,  0.69636424]])"
       ]
      }
     ],
     "prompt_number": 314
    },
    {
     "cell_type": "code",
     "collapsed": false,
     "input": [
      "g2 = RT*vB\n",
      "g2"
     ],
     "language": "python",
     "metadata": {},
     "outputs": [
      {
       "metadata": {},
       "output_type": "pyout",
       "prompt_number": 315,
       "text": [
        "matrix([[  0.00000000e+00],\n",
        "        [  2.08166817e-17],\n",
        "        [ -1.00000000e+00]])"
       ]
      }
     ],
     "prompt_number": 315
    },
    {
     "cell_type": "heading",
     "level": 2,
     "metadata": {},
     "source": [
      "Plot it"
     ]
    },
    {
     "cell_type": "code",
     "collapsed": false,
     "input": [
      "def plotvek3Dpersp(x, y, z):\n",
      "    hor = (0, 90, 45)\n",
      "    vert= (90, 0, 45)\n",
      "    tit = ('Seite', 'Drauf', '3D')\n",
      "    fig = plt.figure(figsize=(15,4.5))\n",
      "    for subplotnumber in range(3):\n",
      "        ax = fig.add_subplot(1,3, subplotnumber, projection='3d')\n",
      "        \n",
      "        ax.plot([0, x], [0, y], [0, z], label='Vektor')\n",
      "        ax.plot([0, g[0]], [0, g[1]], [0, g[2]], label='g')\n",
      "        \n",
      "        ax.scatter(0,0,0, color='k')\n",
      "        \n",
      "        ax.axis('equal')\n",
      "        ax.view_init(hor[subplotnumber], vert[subplotnumber])\n",
      "        plt.xlabel('X')\n",
      "        plt.ylabel('Y')\n",
      "        plt.xlim(-1, 1)\n",
      "        plt.ylim(-1, 1)\n",
      "        plt.title(tit[subplotnumber])\n",
      "        ax.set_zlim3d(-1, 1)\n",
      "        plt.legend(loc='best');\n",
      "        plt.tight_layout()\n",
      "    return plt"
     ],
     "language": "python",
     "metadata": {},
     "outputs": [],
     "prompt_number": 316
    },
    {
     "cell_type": "code",
     "collapsed": false,
     "input": [
      "x, y, z = vB\n",
      "plotvek3Dpersp(x, y, z);"
     ],
     "language": "python",
     "metadata": {},
     "outputs": [
      {
       "metadata": {},
       "output_type": "display_data",
       "png": "[encoded data removed]",
       "text": [
        "<matplotlib.figure.Figure at 0x105d7cd50>"
       ]
      }
     ],
     "prompt_number": 317
    },
    {
     "cell_type": "code",
     "collapsed": false,
     "input": [],
     "language": "python",
     "metadata": {},
     "outputs": [],
     "prompt_number": 310
    },
    {
     "cell_type": "code",
     "collapsed": false,
     "input": [],
     "language": "python",
     "metadata": {},
     "outputs": [],
     "prompt_number": 310
    },
    {
     "cell_type": "code",
     "collapsed": false,
     "input": [],
     "language": "python",
     "metadata": {},
     "outputs": [],
     "prompt_number": 310
    },
    {
     "cell_type": "code",
     "collapsed": false,
     "input": [],
     "language": "python",
     "metadata": {},
     "outputs": [],
     "prompt_number": 310
    },
    {
     "cell_type": "code",
     "collapsed": false,
     "input": [],
     "language": "python",
     "metadata": {},
     "outputs": [],
     "prompt_number": 310
    },
    {
     "cell_type": "markdown",
     "metadata": {},
     "source": [
      "Thanks to [Jake Vanderplas](http://jakevdp.github.io/blog/2012/11/24/simple-3d-visualization-in-matplotlib/), who wrote a Quaternion Class"
     ]
    },
    {
     "cell_type": "code",
     "collapsed": false,
     "input": [],
     "language": "python",
     "metadata": {},
     "outputs": [],
     "prompt_number": 310
    }
   ],
   "metadata": {}
  }
 ]
}